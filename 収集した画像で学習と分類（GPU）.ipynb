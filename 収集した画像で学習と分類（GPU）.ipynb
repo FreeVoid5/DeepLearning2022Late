{
  "nbformat": 4,
  "nbformat_minor": 0,
  "metadata": {
    "colab": {
      "provenance": [],
      "authorship_tag": "ABX9TyOg4mou2ls38509We/GkXTJ",
      "include_colab_link": true
    },
    "kernelspec": {
      "name": "python3",
      "display_name": "Python 3"
    },
    "language_info": {
      "name": "python"
    },
    "accelerator": "GPU",
    "gpuClass": "standard"
  },
  "cells": [
    {
      "cell_type": "markdown",
      "metadata": {
        "id": "view-in-github",
        "colab_type": "text"
      },
      "source": [
        "<a href=\"https://colab.research.google.com/github/FreeVoid5/DeepLearning2022Late/blob/main/%E5%8F%8E%E9%9B%86%E3%81%97%E3%81%9F%E7%94%BB%E5%83%8F%E3%81%A7%E5%AD%A6%E7%BF%92%E3%81%A8%E5%88%86%E9%A1%9E%EF%BC%88GPU%EF%BC%89.ipynb\" target=\"_parent\"><img src=\"https://colab.research.google.com/assets/colab-badge.svg\" alt=\"Open In Colab\"/></a>"
      ]
    },
    {
      "cell_type": "markdown",
      "source": [
        "# 収集した画像をColabにUPして学習させ、それをもとに分類させる"
      ],
      "metadata": {
        "id": "s9B4DIzpV5C1"
      }
    },
    {
      "cell_type": "markdown",
      "source": [
        "## ファイルのフォルダを準備する"
      ],
      "metadata": {
        "id": "WB-ePPjLWQTG"
      }
    },
    {
      "cell_type": "code",
      "execution_count": 5,
      "metadata": {
        "id": "Dd70xWU0VJWb"
      },
      "outputs": [],
      "source": [
        "import os\n",
        "os.makedirs('sample', exist_ok=True) # 分類対象の画像フォルダを作成\n",
        "os.makedirs('output/dog/sample', exist_ok=True) # 犬と判定された時の置き場所\n",
        "os.makedirs('output/cat/sample', exist_ok=True) # 猫と判定された時の置き場所\n",
        "os.makedirs('img/deep_learning/dog', exist_ok=True) # 犬の学習用の収集画像\n",
        "os.makedirs('img/deep_learning/cat', exist_ok=True) # 猫の学習用の収集画像"
      ]
    },
    {
      "cell_type": "markdown",
      "source": [
        "## 必要なライブラリをimport"
      ],
      "metadata": {
        "id": "YdPpJXI8VQ0p"
      }
    },
    {
      "cell_type": "code",
      "source": [
        "import cv2\n",
        "import numpy as np\n",
        "import glob as glob\n",
        "from sklearn.model_selection import train_test_split\n",
        "from keras.utils import np_utils"
      ],
      "metadata": {
        "id": "v2eQGBTaYTf_"
      },
      "execution_count": 6,
      "outputs": []
    },
    {
      "cell_type": "markdown",
      "source": [
        "## 分類（クラス）の名前をフォルダ名（dog, cat）から引用する"
      ],
      "metadata": {
        "id": "pPZ4WH_zZLAd"
      }
    },
    {
      "cell_type": "code",
      "source": [
        "path = \"img/deep_learning\" # dogとcatフォルダがある場所\n",
        "folders = os.listdir(path)\n",
        "# 2つのパスからフォルダ名を抜き出 す\n",
        "classes = [f for f in folders if os.path.isdir(os.path.join(path, f))]\n",
        "print(classes)\n",
        "n_classes = len(classes)\n",
        "print(n_classes)"
      ],
      "metadata": {
        "colab": {
          "base_uri": "https://localhost:8080/"
        },
        "id": "0ZU2MTz7ZLdy",
        "outputId": "e0bc6b4f-6531-4a58-917d-20aac3de6482"
      },
      "execution_count": 7,
      "outputs": [
        {
          "output_type": "stream",
          "name": "stdout",
          "text": [
            "['dog', 'cat']\n",
            "2\n"
          ]
        }
      ]
    },
    {
      "cell_type": "markdown",
      "source": [
        "## 画像を読み込みリサイズ、整形する"
      ],
      "metadata": {
        "id": "ntgx7dJt9gAR"
      }
    },
    {
      "cell_type": "code",
      "source": [
        "# 画像とラベルのための配列\n",
        "X = [] # 画像（学習データ用の配列）\n",
        "Y = [] # ラベル（正解用の配列）\n",
        "\n",
        "# 画像を読み込みつつリサイズする\n",
        "for label, class_name in enumerate(classes):\n",
        "  files = glob.glob(path + \"/\" + class_name + \"/*.jpg\")\n",
        "  for file in files:\n",
        "    img = cv2.imread(file)\n",
        "    img = cv2.resize(img, dsize=(224, 224))\n",
        "    X.append(img)\n",
        "    Y.append(label)\n",
        "  # 内部ループ終わり\n",
        "# 外部ループ終わり"
      ],
      "metadata": {
        "id": "GJ--AckobhGB"
      },
      "execution_count": 8,
      "outputs": []
    },
    {
      "cell_type": "markdown",
      "source": [
        "## 0～255のビットデータ値を、学習のために0～1に変換（正規化）学習精度を上げる"
      ],
      "metadata": {
        "id": "pyoDr-6iEuPg"
      }
    },
    {
      "cell_type": "code",
      "source": [
        "X = np.array(X) # 配列XをNumpy配列に変換\n",
        "X = X.astype('float32') # 小数型に変換\n",
        "X /= 255.0\n",
        "# ラベルもnumpyの配列に変換\n",
        "Y = np.array(Y)\n",
        "Y = np_utils.to_categorical(Y, n_classes)"
      ],
      "metadata": {
        "id": "ML-Qs5qGCK7P"
      },
      "execution_count": 9,
      "outputs": []
    },
    {
      "cell_type": "markdown",
      "source": [
        "### 整形したデータを学習用とテスト検証用に振り分ける"
      ],
      "metadata": {
        "id": "68bsKBCWGLjR"
      }
    },
    {
      "cell_type": "code",
      "source": [
        "# 学習データ8割、テスト検証用が2割にわける\n",
        "X_train, X_test, Y_train, Y_test = train_test_split(X, Y, test_size=0.2)\n",
        "# 学習データ8割（画像問題データ）\n",
        "print(X_train.shape)\n",
        "# テストデータ2割（画像問題データ）\n",
        "print(X_test.shape)\n",
        "# 学習データ8割（正解ラベル）\n",
        "print(Y_train.shape)\n",
        "# テストデータ2割（正解ラベル）\n",
        "print(Y_test.shape)"
      ],
      "metadata": {
        "colab": {
          "base_uri": "https://localhost:8080/"
        },
        "id": "YSBBzkKHGdOT",
        "outputId": "65a0d487-a510-433f-90d5-b0e0d5b62ae0"
      },
      "execution_count": 10,
      "outputs": [
        {
          "output_type": "stream",
          "name": "stdout",
          "text": [
            "(120, 224, 224, 3)\n",
            "(31, 224, 224, 3)\n",
            "(120, 2)\n",
            "(31, 2)\n"
          ]
        }
      ]
    },
    {
      "cell_type": "markdown",
      "source": [
        "## 準備したデータを学習させていく"
      ],
      "metadata": {
        "id": "ohCNNPZ1Lnxx"
      }
    },
    {
      "cell_type": "markdown",
      "source": [
        "### 学習に必要なライブラリをimport"
      ],
      "metadata": {
        "id": "nxyUGmPRLoMx"
      }
    },
    {
      "cell_type": "code",
      "source": [
        "from keras.applications.vgg16 import VGG16\n",
        "from keras.models import Sequential\n",
        "from keras.models import Model\n",
        "from keras.layers import Input, Activation, Dense, Flatten, Dropout\n",
        "from keras.optimizers import Adam"
      ],
      "metadata": {
        "id": "7FdsD5tEIacA"
      },
      "execution_count": 11,
      "outputs": []
    },
    {
      "cell_type": "markdown",
      "source": [
        "## モデルのVGG16をアレンジしていく"
      ],
      "metadata": {
        "id": "QW-K_3xkS1g0"
      }
    },
    {
      "cell_type": "code",
      "source": [
        "# VGG16 入力層を用意する（定義する）\n",
        "input_tensor = Input(shape = (224, 224, 3))\n",
        "# VGG16のインスタンスを作る（最後のsoftmaxの1000層を無効にしておく）\n",
        "base_model = VGG16(weights='imagenet', input_tensor=input_tensor, include_top=False)"
      ],
      "metadata": {
        "colab": {
          "base_uri": "https://localhost:8080/"
        },
        "id": "FR7WkuO3S5vV",
        "outputId": "70e1ffac-68de-4c5c-f3ce-e668b148f574"
      },
      "execution_count": 12,
      "outputs": [
        {
          "output_type": "stream",
          "name": "stdout",
          "text": [
            "Downloading data from https://storage.googleapis.com/tensorflow/keras-applications/vgg16/vgg16_weights_tf_dim_ordering_tf_kernels_notop.h5\n",
            "58889256/58889256 [==============================] - 2s 0us/step\n"
          ]
        }
      ]
    },
    {
      "cell_type": "markdown",
      "source": [
        "### 1000分類のsoftmaxを外した代わりに、2つに分類するsoftmax層を追加する"
      ],
      "metadata": {
        "id": "WEF98muaWbV0"
      }
    },
    {
      "cell_type": "code",
      "source": [
        "# 追加する層の作成\n",
        "top_model = Sequential() # ラッピングする層\n",
        "top_model.add(Flatten(input_shape=base_model.output_shape[1:]))\n",
        "top_model.add(Dense(n_classes, activation='softmax'))"
      ],
      "metadata": {
        "id": "1Uq4_pIfWjOb"
      },
      "execution_count": 13,
      "outputs": []
    },
    {
      "cell_type": "markdown",
      "source": [
        "### 最後のSOFTMAXを外したモデル（basemodel）と追加用の2つに分類するSOFTMAX層のモデル（top_model）をつなげる"
      ],
      "metadata": {
        "id": "piC17cI-aPv4"
      }
    },
    {
      "cell_type": "code",
      "source": [
        "model = Model(inputs=base_model.input, outputs=top_model(base_model.output))"
      ],
      "metadata": {
        "id": "vY8m9Q5FX8fe"
      },
      "execution_count": 14,
      "outputs": []
    },
    {
      "cell_type": "markdown",
      "source": [
        "### 時間短縮のために、15層までを外す"
      ],
      "metadata": {
        "id": "lU8y1RPMbIx1"
      }
    },
    {
      "cell_type": "code",
      "source": [
        "model.summary()"
      ],
      "metadata": {
        "colab": {
          "base_uri": "https://localhost:8080/"
        },
        "id": "KcrSQv45biEJ",
        "outputId": "30931e4c-1a22-4292-88e7-31937d08d5cf"
      },
      "execution_count": 15,
      "outputs": [
        {
          "output_type": "stream",
          "name": "stdout",
          "text": [
            "Model: \"model\"\n",
            "_________________________________________________________________\n",
            " Layer (type)                Output Shape              Param #   \n",
            "=================================================================\n",
            " input_1 (InputLayer)        [(None, 224, 224, 3)]     0         \n",
            "                                                                 \n",
            " block1_conv1 (Conv2D)       (None, 224, 224, 64)      1792      \n",
            "                                                                 \n",
            " block1_conv2 (Conv2D)       (None, 224, 224, 64)      36928     \n",
            "                                                                 \n",
            " block1_pool (MaxPooling2D)  (None, 112, 112, 64)      0         \n",
            "                                                                 \n",
            " block2_conv1 (Conv2D)       (None, 112, 112, 128)     73856     \n",
            "                                                                 \n",
            " block2_conv2 (Conv2D)       (None, 112, 112, 128)     147584    \n",
            "                                                                 \n",
            " block2_pool (MaxPooling2D)  (None, 56, 56, 128)       0         \n",
            "                                                                 \n",
            " block3_conv1 (Conv2D)       (None, 56, 56, 256)       295168    \n",
            "                                                                 \n",
            " block3_conv2 (Conv2D)       (None, 56, 56, 256)       590080    \n",
            "                                                                 \n",
            " block3_conv3 (Conv2D)       (None, 56, 56, 256)       590080    \n",
            "                                                                 \n",
            " block3_pool (MaxPooling2D)  (None, 28, 28, 256)       0         \n",
            "                                                                 \n",
            " block4_conv1 (Conv2D)       (None, 28, 28, 512)       1180160   \n",
            "                                                                 \n",
            " block4_conv2 (Conv2D)       (None, 28, 28, 512)       2359808   \n",
            "                                                                 \n",
            " block4_conv3 (Conv2D)       (None, 28, 28, 512)       2359808   \n",
            "                                                                 \n",
            " block4_pool (MaxPooling2D)  (None, 14, 14, 512)       0         \n",
            "                                                                 \n",
            " block5_conv1 (Conv2D)       (None, 14, 14, 512)       2359808   \n",
            "                                                                 \n",
            " block5_conv2 (Conv2D)       (None, 14, 14, 512)       2359808   \n",
            "                                                                 \n",
            " block5_conv3 (Conv2D)       (None, 14, 14, 512)       2359808   \n",
            "                                                                 \n",
            " block5_pool (MaxPooling2D)  (None, 7, 7, 512)         0         \n",
            "                                                                 \n",
            " sequential (Sequential)     (None, 2)                 50178     \n",
            "                                                                 \n",
            "=================================================================\n",
            "Total params: 14,764,866\n",
            "Trainable params: 14,764,866\n",
            "Non-trainable params: 0\n",
            "_________________________________________________________________\n"
          ]
        }
      ]
    },
    {
      "cell_type": "code",
      "source": [
        "# ループしながら15層までを無効にする\n",
        "for layer in model.layers[:15]:\n",
        "  layer.trainable = False # 15層までは学習しない\n",
        "# ループ終わり\n",
        "print('# layers=', len(model.layers)) # モデルの層の数を表示"
      ],
      "metadata": {
        "colab": {
          "base_uri": "https://localhost:8080/"
        },
        "id": "agwWBiPYa_FJ",
        "outputId": "965d62e0-6332-46ea-f0c3-12776b917af8"
      },
      "execution_count": 16,
      "outputs": [
        {
          "output_type": "stream",
          "name": "stdout",
          "text": [
            "# layers= 20\n"
          ]
        }
      ]
    },
    {
      "cell_type": "code",
      "source": [
        "model.summary()"
      ],
      "metadata": {
        "colab": {
          "base_uri": "https://localhost:8080/"
        },
        "id": "NfEbGSPUcbXb",
        "outputId": "1ad8e401-016d-448d-9a7c-311a6e544f71"
      },
      "execution_count": 17,
      "outputs": [
        {
          "output_type": "stream",
          "name": "stdout",
          "text": [
            "Model: \"model\"\n",
            "_________________________________________________________________\n",
            " Layer (type)                Output Shape              Param #   \n",
            "=================================================================\n",
            " input_1 (InputLayer)        [(None, 224, 224, 3)]     0         \n",
            "                                                                 \n",
            " block1_conv1 (Conv2D)       (None, 224, 224, 64)      1792      \n",
            "                                                                 \n",
            " block1_conv2 (Conv2D)       (None, 224, 224, 64)      36928     \n",
            "                                                                 \n",
            " block1_pool (MaxPooling2D)  (None, 112, 112, 64)      0         \n",
            "                                                                 \n",
            " block2_conv1 (Conv2D)       (None, 112, 112, 128)     73856     \n",
            "                                                                 \n",
            " block2_conv2 (Conv2D)       (None, 112, 112, 128)     147584    \n",
            "                                                                 \n",
            " block2_pool (MaxPooling2D)  (None, 56, 56, 128)       0         \n",
            "                                                                 \n",
            " block3_conv1 (Conv2D)       (None, 56, 56, 256)       295168    \n",
            "                                                                 \n",
            " block3_conv2 (Conv2D)       (None, 56, 56, 256)       590080    \n",
            "                                                                 \n",
            " block3_conv3 (Conv2D)       (None, 56, 56, 256)       590080    \n",
            "                                                                 \n",
            " block3_pool (MaxPooling2D)  (None, 28, 28, 256)       0         \n",
            "                                                                 \n",
            " block4_conv1 (Conv2D)       (None, 28, 28, 512)       1180160   \n",
            "                                                                 \n",
            " block4_conv2 (Conv2D)       (None, 28, 28, 512)       2359808   \n",
            "                                                                 \n",
            " block4_conv3 (Conv2D)       (None, 28, 28, 512)       2359808   \n",
            "                                                                 \n",
            " block4_pool (MaxPooling2D)  (None, 14, 14, 512)       0         \n",
            "                                                                 \n",
            " block5_conv1 (Conv2D)       (None, 14, 14, 512)       2359808   \n",
            "                                                                 \n",
            " block5_conv2 (Conv2D)       (None, 14, 14, 512)       2359808   \n",
            "                                                                 \n",
            " block5_conv3 (Conv2D)       (None, 14, 14, 512)       2359808   \n",
            "                                                                 \n",
            " block5_pool (MaxPooling2D)  (None, 7, 7, 512)         0         \n",
            "                                                                 \n",
            " sequential (Sequential)     (None, 2)                 50178     \n",
            "                                                                 \n",
            "=================================================================\n",
            "Total params: 14,764,866\n",
            "Trainable params: 7,129,602\n",
            "Non-trainable params: 7,635,264\n",
            "_________________________________________________________________\n"
          ]
        }
      ]
    },
    {
      "cell_type": "markdown",
      "source": [
        "## 学習モデルをコンパイルする"
      ],
      "metadata": {
        "id": "n3yQr7Whck8j"
      }
    },
    {
      "cell_type": "code",
      "source": [
        "# 損失はクロスエントロピー法で算出、最適化はADAM、指標は精度でみる\n",
        "model.compile(loss='categorical_crossentropy',\n",
        "              optimizer='adam',\n",
        "              metrics=['accuracy'],\n",
        "              )"
      ],
      "metadata": {
        "id": "bSRE39cBcdEy"
      },
      "execution_count": 18,
      "outputs": []
    },
    {
      "cell_type": "markdown",
      "source": [
        "## コンパイルしたモデルを表示"
      ],
      "metadata": {
        "id": "F8qcBr4hejgD"
      }
    },
    {
      "cell_type": "code",
      "source": [
        "model.summary()"
      ],
      "metadata": {
        "colab": {
          "base_uri": "https://localhost:8080/"
        },
        "id": "90ZbGDL6eivz",
        "outputId": "8016ac40-d076-4ac8-b3f4-f9ab618468f4"
      },
      "execution_count": 19,
      "outputs": [
        {
          "output_type": "stream",
          "name": "stdout",
          "text": [
            "Model: \"model\"\n",
            "_________________________________________________________________\n",
            " Layer (type)                Output Shape              Param #   \n",
            "=================================================================\n",
            " input_1 (InputLayer)        [(None, 224, 224, 3)]     0         \n",
            "                                                                 \n",
            " block1_conv1 (Conv2D)       (None, 224, 224, 64)      1792      \n",
            "                                                                 \n",
            " block1_conv2 (Conv2D)       (None, 224, 224, 64)      36928     \n",
            "                                                                 \n",
            " block1_pool (MaxPooling2D)  (None, 112, 112, 64)      0         \n",
            "                                                                 \n",
            " block2_conv1 (Conv2D)       (None, 112, 112, 128)     73856     \n",
            "                                                                 \n",
            " block2_conv2 (Conv2D)       (None, 112, 112, 128)     147584    \n",
            "                                                                 \n",
            " block2_pool (MaxPooling2D)  (None, 56, 56, 128)       0         \n",
            "                                                                 \n",
            " block3_conv1 (Conv2D)       (None, 56, 56, 256)       295168    \n",
            "                                                                 \n",
            " block3_conv2 (Conv2D)       (None, 56, 56, 256)       590080    \n",
            "                                                                 \n",
            " block3_conv3 (Conv2D)       (None, 56, 56, 256)       590080    \n",
            "                                                                 \n",
            " block3_pool (MaxPooling2D)  (None, 28, 28, 256)       0         \n",
            "                                                                 \n",
            " block4_conv1 (Conv2D)       (None, 28, 28, 512)       1180160   \n",
            "                                                                 \n",
            " block4_conv2 (Conv2D)       (None, 28, 28, 512)       2359808   \n",
            "                                                                 \n",
            " block4_conv3 (Conv2D)       (None, 28, 28, 512)       2359808   \n",
            "                                                                 \n",
            " block4_pool (MaxPooling2D)  (None, 14, 14, 512)       0         \n",
            "                                                                 \n",
            " block5_conv1 (Conv2D)       (None, 14, 14, 512)       2359808   \n",
            "                                                                 \n",
            " block5_conv2 (Conv2D)       (None, 14, 14, 512)       2359808   \n",
            "                                                                 \n",
            " block5_conv3 (Conv2D)       (None, 14, 14, 512)       2359808   \n",
            "                                                                 \n",
            " block5_pool (MaxPooling2D)  (None, 7, 7, 512)         0         \n",
            "                                                                 \n",
            " sequential (Sequential)     (None, 2)                 50178     \n",
            "                                                                 \n",
            "=================================================================\n",
            "Total params: 14,764,866\n",
            "Trainable params: 7,129,602\n",
            "Non-trainable params: 7,635,264\n",
            "_________________________________________________________________\n"
          ]
        }
      ]
    },
    {
      "cell_type": "markdown",
      "source": [
        "## コンパイルしたモデルで収集した画像データを学習させる"
      ],
      "metadata": {
        "id": "czMcsqw-fnWx"
      }
    },
    {
      "cell_type": "code",
      "source": [
        "model.fit(X_train, Y_train, epochs=20, batch_size=16)"
      ],
      "metadata": {
        "colab": {
          "base_uri": "https://localhost:8080/"
        },
        "id": "zZVpcWZlenSj",
        "outputId": "b6acaad8-46ce-4515-e580-779de7e649e6"
      },
      "execution_count": 20,
      "outputs": [
        {
          "output_type": "stream",
          "name": "stdout",
          "text": [
            "Epoch 1/20\n",
            "8/8 [==============================] - 13s 239ms/step - loss: 1.0767 - accuracy: 0.5083\n",
            "Epoch 2/20\n",
            "8/8 [==============================] - 1s 88ms/step - loss: 0.7141 - accuracy: 0.5417\n",
            "Epoch 3/20\n",
            "8/8 [==============================] - 1s 89ms/step - loss: 0.6969 - accuracy: 0.5417\n",
            "Epoch 4/20\n",
            "8/8 [==============================] - 1s 89ms/step - loss: 0.7016 - accuracy: 0.4917\n",
            "Epoch 5/20\n",
            "8/8 [==============================] - 1s 90ms/step - loss: 0.6931 - accuracy: 0.5250\n",
            "Epoch 6/20\n",
            "8/8 [==============================] - 1s 89ms/step - loss: 0.6943 - accuracy: 0.5417\n",
            "Epoch 7/20\n",
            "8/8 [==============================] - 1s 89ms/step - loss: 0.6930 - accuracy: 0.5333\n",
            "Epoch 8/20\n",
            "8/8 [==============================] - 1s 89ms/step - loss: 0.6928 - accuracy: 0.5417\n",
            "Epoch 9/20\n",
            "8/8 [==============================] - 1s 90ms/step - loss: 0.6926 - accuracy: 0.5417\n",
            "Epoch 10/20\n",
            "8/8 [==============================] - 1s 89ms/step - loss: 0.6924 - accuracy: 0.5417\n",
            "Epoch 11/20\n",
            "8/8 [==============================] - 1s 90ms/step - loss: 0.6922 - accuracy: 0.5417\n",
            "Epoch 12/20\n",
            "8/8 [==============================] - 1s 90ms/step - loss: 0.6920 - accuracy: 0.5417\n",
            "Epoch 13/20\n",
            "8/8 [==============================] - 1s 91ms/step - loss: 0.6918 - accuracy: 0.5417\n",
            "Epoch 14/20\n",
            "8/8 [==============================] - 1s 90ms/step - loss: 0.6917 - accuracy: 0.5417\n",
            "Epoch 15/20\n",
            "8/8 [==============================] - 1s 91ms/step - loss: 0.6916 - accuracy: 0.5417\n",
            "Epoch 16/20\n",
            "8/8 [==============================] - 1s 91ms/step - loss: 0.6915 - accuracy: 0.5417\n",
            "Epoch 17/20\n",
            "8/8 [==============================] - 1s 91ms/step - loss: 0.6915 - accuracy: 0.5417\n",
            "Epoch 18/20\n",
            "8/8 [==============================] - 1s 91ms/step - loss: 0.6913 - accuracy: 0.5417\n",
            "Epoch 19/20\n",
            "8/8 [==============================] - 1s 91ms/step - loss: 0.6912 - accuracy: 0.5417\n",
            "Epoch 20/20\n",
            "8/8 [==============================] - 1s 93ms/step - loss: 0.6911 - accuracy: 0.5417\n"
          ]
        },
        {
          "output_type": "execute_result",
          "data": {
            "text/plain": [
              "<keras.callbacks.History at 0x7fbb14039160>"
            ]
          },
          "metadata": {},
          "execution_count": 20
        }
      ]
    },
    {
      "cell_type": "markdown",
      "source": [
        "### 学習の成果を指標（accuracy）で確認"
      ],
      "metadata": {
        "id": "Be08x2mfhpmg"
      }
    },
    {
      "cell_type": "code",
      "source": [
        "score = model.evaluate(X_test, Y_test, batch_size=16)"
      ],
      "metadata": {
        "colab": {
          "base_uri": "https://localhost:8080/"
        },
        "id": "iydXL1vdgzAR",
        "outputId": "84154a7c-c62e-4d7b-8e2a-fc920a512392"
      },
      "execution_count": 21,
      "outputs": [
        {
          "output_type": "stream",
          "name": "stdout",
          "text": [
            "2/2 [==============================] - 2s 2s/step - loss: 0.7028 - accuracy: 0.3548\n"
          ]
        }
      ]
    },
    {
      "cell_type": "markdown",
      "source": [
        "## 作成した学習モデルとクラス分類名を保存"
      ],
      "metadata": {
        "id": "Kscc58hmi3eP"
      }
    },
    {
      "cell_type": "code",
      "source": [
        "import pickle\n",
        "# vクラス分類の保存\n",
        "pickle.dump(classes, open('classes.sav', 'wb')) # オブジェクトをバイナリファイルで保持\n",
        "# 学習モデルの保存\n",
        "model.save('cnn.h5')"
      ],
      "metadata": {
        "id": "buFKRU-viGLC"
      },
      "execution_count": 22,
      "outputs": []
    },
    {
      "cell_type": "markdown",
      "source": [
        "## 保存したクラス分類と学習モデルを読み込んで使う"
      ],
      "metadata": {
        "id": "zpfySsqPj_51"
      }
    },
    {
      "cell_type": "code",
      "source": [
        "# ライブラリのimport\n",
        "from keras.models import load_model\n",
        "# import pickle\n",
        "import cv2\n",
        "import glob"
      ],
      "metadata": {
        "id": "y_xq0N_3j8OG"
      },
      "execution_count": 23,
      "outputs": []
    },
    {
      "cell_type": "markdown",
      "source": [
        "# ファイルを読み込んでオブジェクトとしてよみがえらせる"
      ],
      "metadata": {
        "id": "P4Fl9Tuikzh7"
      }
    },
    {
      "cell_type": "code",
      "source": [
        "model = load_model('cnn.h5')\n",
        "classes = pickle.load(open('classes.sav', 'rb'))"
      ],
      "metadata": {
        "id": "QKb0k8RslF9z"
      },
      "execution_count": 24,
      "outputs": []
    },
    {
      "cell_type": "markdown",
      "source": [
        "## sample画像を読み込む"
      ],
      "metadata": {
        "id": "aXRsvavgSqSn"
      }
    },
    {
      "cell_type": "code",
      "source": [
        "files = glob.glob('sample/*')\n",
        "print(files)"
      ],
      "metadata": {
        "id": "iKCxjwJ5lXJM",
        "colab": {
          "base_uri": "https://localhost:8080/"
        },
        "outputId": "98f39b99-3cc3-4670-d52f-c752c641b06f"
      },
      "execution_count": 26,
      "outputs": [
        {
          "output_type": "stream",
          "name": "stdout",
          "text": [
            "['sample/dog_18.jpg', 'sample/dog_81.jpg', 'sample/cat_43.jpg', 'sample/dog_20.jpg', 'sample/cat_7.jpg', 'sample/cat_1.jpg', 'sample/dog_13.jpg', 'sample/cat_27.jpg', 'sample/dog_7.jpg', 'sample/cat_26.jpg']\n"
          ]
        }
      ]
    },
    {
      "cell_type": "markdown",
      "source": [
        "## ファイルパスから画像を読み込み、学習モデルに判定させ、該当するoutputフォルダにコピーを書き込む"
      ],
      "metadata": {
        "id": "ni4aC57hV-KM"
      }
    },
    {
      "cell_type": "code",
      "source": [
        "for file in files: # ファイルの数だけループ\n",
        "  img = cv2.imread(file)\n",
        "  # 判定のためにimgを加工したimg2を作る\n",
        "  img2 = cv2.resize(img, dsize=(224, 224)) # (224, 224)にリサイズ\n",
        "  img2 = img2.astype('float32')\n",
        "  img2 = img2/255.0 # 0.0～255.0だったデータを0.0～1.0に変換\n",
        "  img2 = img2[None, ...] # 1次元配列に変換\n",
        "  # 正規化したデータを判定\n",
        "  result = model.predict(img2)\n",
        "  print(result) # 画面に生で出力\n",
        "  # 確率が高いクラスを取得\n",
        "  pred = result.argmax()\n",
        "  print(pred, str(classes[pred]))\n",
        "  # 判定したクラス分類のフォルダのほうに、画像データを書き込む\n",
        "  cv2.imwrite('output/' + str(classes[pred]) + '/' + file,img)"
      ],
      "metadata": {
        "colab": {
          "base_uri": "https://localhost:8080/"
        },
        "id": "P0iIbYRNVytm",
        "outputId": "e0a47efa-65f9-4c79-80ed-0352f3678268"
      },
      "execution_count": 32,
      "outputs": [
        {
          "output_type": "stream",
          "name": "stdout",
          "text": [
            "1/1 [==============================] - 0s 28ms/step\n",
            "[[0.51581496 0.484185  ]]\n",
            "0 dog\n",
            "1/1 [==============================] - 0s 27ms/step\n",
            "[[0.51581496 0.484185  ]]\n",
            "0 dog\n",
            "1/1 [==============================] - 0s 61ms/step\n",
            "[[0.51581496 0.484185  ]]\n",
            "0 dog\n",
            "1/1 [==============================] - 0s 26ms/step\n",
            "[[0.51581496 0.484185  ]]\n",
            "0 dog\n",
            "1/1 [==============================] - 0s 33ms/step\n",
            "[[0.51581496 0.484185  ]]\n",
            "0 dog\n",
            "1/1 [==============================] - 0s 17ms/step\n",
            "[[0.51581496 0.484185  ]]\n",
            "0 dog\n",
            "1/1 [==============================] - 0s 17ms/step\n",
            "[[0.51581496 0.484185  ]]\n",
            "0 dog\n",
            "1/1 [==============================] - 0s 20ms/step\n",
            "[[0.51581496 0.484185  ]]\n",
            "0 dog\n",
            "1/1 [==============================] - 0s 16ms/step\n",
            "[[0.51581496 0.484185  ]]\n",
            "0 dog\n",
            "1/1 [==============================] - 0s 18ms/step\n",
            "[[0.51581496 0.484185  ]]\n",
            "0 dog\n"
          ]
        }
      ]
    },
    {
      "cell_type": "code",
      "source": [],
      "metadata": {
        "id": "18GcgaQbWSlv"
      },
      "execution_count": null,
      "outputs": []
    }
  ]
}