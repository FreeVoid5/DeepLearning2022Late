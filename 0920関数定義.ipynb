{
  "nbformat": 4,
  "nbformat_minor": 0,
  "metadata": {
    "colab": {
      "provenance": [],
      "collapsed_sections": [],
      "authorship_tag": "ABX9TyOI95pVreUMwQYIKrwng5r6",
      "include_colab_link": true
    },
    "kernelspec": {
      "name": "python3",
      "display_name": "Python 3"
    },
    "language_info": {
      "name": "python"
    }
  },
  "cells": [
    {
      "cell_type": "markdown",
      "metadata": {
        "id": "view-in-github",
        "colab_type": "text"
      },
      "source": [
        "<a href=\"https://colab.research.google.com/github/FreeVoid5/DeepLearning2022Late/blob/main/0920%E9%96%A2%E6%95%B0%E5%AE%9A%E7%BE%A9.ipynb\" target=\"_parent\"><img src=\"https://colab.research.google.com/assets/colab-badge.svg\" alt=\"Open In Colab\"/></a>"
      ]
    },
    {
      "cell_type": "markdown",
      "source": [],
      "metadata": {
        "id": "XA0elTUYbUkG"
      }
    },
    {
      "cell_type": "markdown",
      "source": [
        "# Python3で関数を定義する\n",
        "# 関数定義"
      ],
      "metadata": {
        "id": "LRVRnlUBbWnU"
      }
    },
    {
      "cell_type": "code",
      "execution_count": 1,
      "metadata": {
        "colab": {
          "base_uri": "https://localhost:8080/"
        },
        "id": "FI3AFdV4a4J5",
        "outputId": "8400aea1-e2f6-4cb0-8ce2-882eff5cd934"
      },
      "outputs": [
        {
          "output_type": "stream",
          "name": "stdout",
          "text": [
            "test message!\n"
          ]
        }
      ],
      "source": [
        "#helloという関数を定義する\n",
        "#\"hello, kansuu!\"と画面表示する関数\n",
        "def hello():\n",
        "  print('hello, kansuu!') #インデントされている\n",
        "  #インデントされている命令文などは関数の範囲の中\n",
        "print('test message!') #インデントされていない\n",
        "#インデントされていない命令文などは関数の範囲の外"
      ]
    },
    {
      "cell_type": "markdown",
      "source": [
        "## 関数を実行する"
      ],
      "metadata": {
        "id": "T6Or_ksDbWJL"
      }
    },
    {
      "cell_type": "code",
      "source": [
        "#作成した関数hello()をコールする\n",
        "hello()\n",
        "hello()"
      ],
      "metadata": {
        "colab": {
          "base_uri": "https://localhost:8080/"
        },
        "id": "JB5tTnOad-Q_",
        "outputId": "637ae06b-291c-423a-863e-25f87342a36c"
      },
      "execution_count": 2,
      "outputs": [
        {
          "output_type": "stream",
          "name": "stdout",
          "text": [
            "hello, kansuu!\n",
            "hello, kansuu!\n"
          ]
        }
      ]
    },
    {
      "cell_type": "markdown",
      "source": [
        "## 引数付きの関数を定義する"
      ],
      "metadata": {
        "id": "qa8nDalgeqpz"
      }
    },
    {
      "cell_type": "code",
      "source": [
        "#引数付きの関数hello()を定義\n",
        "def hello(who):\n",
        "  print('hello,' + who + '!')\n",
        "#ここが関数の終わり\n",
        "hello('python!')"
      ],
      "metadata": {
        "colab": {
          "base_uri": "https://localhost:8080/"
        },
        "id": "Etm_98JheOxt",
        "outputId": "9dfafd0c-0d23-4fe1-d5ad-de65248eebff"
      },
      "execution_count": 4,
      "outputs": [
        {
          "output_type": "stream",
          "name": "stdout",
          "text": [
            "hello,python!!\n"
          ]
        }
      ]
    },
    {
      "cell_type": "markdown",
      "source": [
        "### 複数の引数付きの関数を定義"
      ],
      "metadata": {
        "id": "0iPyfNCEgLDL"
      }
    },
    {
      "cell_type": "code",
      "source": [
        "def hello(who, aisatsu):\n",
        "  print('hello,' + who + 'さん' + aisatsu)\n",
        "#関数の終わり\n",
        "hello('田中', 'おはよう')\n",
        "hello('鈴木', 'こんにちは')"
      ],
      "metadata": {
        "colab": {
          "base_uri": "https://localhost:8080/"
        },
        "id": "bjvBARnuf0iz",
        "outputId": "b8c8803a-5233-4024-a165-de5db64dff48"
      },
      "execution_count": 9,
      "outputs": [
        {
          "output_type": "stream",
          "name": "stdout",
          "text": [
            "hello,田中さんおはよう\n",
            "hello,鈴木さんこんにちは\n"
          ]
        }
      ]
    },
    {
      "cell_type": "markdown",
      "source": [
        "## 関数の戻り値を定義する\n",
        "戻り値1つの関数を定義"
      ],
      "metadata": {
        "id": "M-kTp3AThuTt"
      }
    },
    {
      "cell_type": "code",
      "source": [
        "def helloBack(who, aisatsu):\n",
        "  return who + 'さん、' + aisatsu\n",
        "#関数の終わり\n",
        "#戻り値を変数xに代入して表示\n",
        "x = helloBack('佐藤', 'こんばんは')\n",
        "print(x)"
      ],
      "metadata": {
        "colab": {
          "base_uri": "https://localhost:8080/"
        },
        "id": "8XjdqGA0gzJU",
        "outputId": "a2caa8a0-85fb-43e9-dedc-e31658297bd0"
      },
      "execution_count": 11,
      "outputs": [
        {
          "output_type": "stream",
          "name": "stdout",
          "text": [
            "佐藤さん、こんばんは\n"
          ]
        }
      ]
    },
    {
      "cell_type": "markdown",
      "source": [
        "### 複数の戻り値を返す関数を定義"
      ],
      "metadata": {
        "id": "suPC0wvxjBMN"
      }
    },
    {
      "cell_type": "code",
      "source": [
        "def keisan(x, y):\n",
        "  #x, y, x + yこの３つの値を返す\n",
        "  return x, y, x + y\n",
        "#関数の終わり\n",
        "#関数keisanを実行して戻り値を受け取る\n",
        "e, f, g = keisan(3, 6) #戻り値が3, 6, 9になる\n",
        "print(e, f, g)"
      ],
      "metadata": {
        "colab": {
          "base_uri": "https://localhost:8080/"
        },
        "id": "_U-QeZRfiyMF",
        "outputId": "6da8d3be-cd4c-4006-dcab-0c90fdeea9fc"
      },
      "execution_count": 12,
      "outputs": [
        {
          "output_type": "stream",
          "name": "stdout",
          "text": [
            "3 6 9\n"
          ]
        }
      ]
    },
    {
      "cell_type": "markdown",
      "source": [
        "# その他の文法\n",
        "## 分岐（if文）"
      ],
      "metadata": {
        "id": "wwmUpfoUk-9F"
      }
    },
    {
      "cell_type": "code",
      "source": [
        "#if文の範囲もインデントで表す\n",
        "#numの値を閾値で分岐する\n",
        "def over(num, thres):\n",
        "  if num > thres: #numが閾値より大きいとき\n",
        "    print(str(num) + 'は' + str(thres) + 'より大きい')\n",
        "  else:\n",
        "    print(str(num) + 'は' + str(thres) + '以下です')\n",
        "  #分岐の終わり\n",
        "#関数の終わり\n",
        "over(333, 100)\n",
        "over(-1, 10)"
      ],
      "metadata": {
        "colab": {
          "base_uri": "https://localhost:8080/"
        },
        "id": "EF6RZ-tqkoM4",
        "outputId": "fedff18e-e4e6-4b60-d23e-e94ed238d85f"
      },
      "execution_count": 15,
      "outputs": [
        {
          "output_type": "stream",
          "name": "stdout",
          "text": [
            "333は100より大きい\n",
            "-1は10以下です\n"
          ]
        }
      ]
    },
    {
      "cell_type": "code",
      "source": [
        "#リストに第2引数の値が含まれるか判定\n",
        "def include(list, keyword):\n",
        "  uniq = set(list) #リストを集合に変換\n",
        "  if keyword in uniq:\n",
        "    print(keyword + 'が含まれる')\n",
        "  else:\n",
        "    print(keyword + 'が含まれない')\n",
        "  #分岐の終わり\n",
        "#関数の終わり\n",
        "\n",
        "#リストを引き渡して作成した関数を実行する\n",
        "list_1 = ['アップル', 'ペン', 'ペン', 'パイナップル']\n",
        "include(list_1, 'パイナップル')\n",
        "include(list_1, 'バナナ')"
      ],
      "metadata": {
        "colab": {
          "base_uri": "https://localhost:8080/"
        },
        "id": "2aCFdX7CnoXb",
        "outputId": "dd3af4b0-f5fe-4a51-c406-4ac1fc9f5fbf"
      },
      "execution_count": 16,
      "outputs": [
        {
          "output_type": "stream",
          "name": "stdout",
          "text": [
            "パイナップルが含まれる\n",
            "バナナが含まれない\n"
          ]
        }
      ]
    },
    {
      "cell_type": "markdown",
      "source": [
        "## 繰り返し文（while文）"
      ],
      "metadata": {
        "id": "_4kdEi0VwfOh"
      }
    },
    {
      "cell_type": "code",
      "source": [
        "#while文は条件がtrueの間くりかえす\n",
        "def count(max):\n",
        "  num = 0\n",
        "  while num < max: #numがmax未満の間、くりかえす\n",
        "    print(num)\n",
        "    num += 1\n",
        "  #while繰り返しの終わり\n",
        "#関数の終わり\n",
        "count(5) #作成した関数に引数を引き渡して実行"
      ],
      "metadata": {
        "colab": {
          "base_uri": "https://localhost:8080/"
        },
        "id": "fTNzGcgRvtJs",
        "outputId": "bcae38ea-ad98-4b37-beb2-95ef28beea80"
      },
      "execution_count": 17,
      "outputs": [
        {
          "output_type": "stream",
          "name": "stdout",
          "text": [
            "0\n",
            "1\n",
            "2\n",
            "3\n",
            "4\n"
          ]
        }
      ]
    },
    {
      "cell_type": "markdown",
      "source": [
        "## 繰り返し分（for文）\n",
        "\n",
        "### 変数βの集合から１つずつ取り出して変数αとして使う\n",
        "for 変数α in range(変数β):"
      ],
      "metadata": {
        "id": "j-H0wjO1ywsp"
      }
    },
    {
      "cell_type": "code",
      "source": [
        "#集合（コレクション）の中から取り出して繰り返し\n",
        "def every(array):\n",
        "  for x in array: #arrayの中から１つずつデータを取り出しxに代入\n",
        "    print(x)\n",
        "  #for文の終わり\n",
        "#関数の終わり\n",
        "list = [1, 2, 3]\n",
        "every(list)\n",
        "tuple = (4, 5, 6)\n",
        "every(tuple)\n",
        "#辞書型コレクション\n",
        "dict = {'a':7, 'b':8, 'c':9}\n",
        "every(dict) #キーワードの一覧表示\n",
        "values = dict.values() #値のリストを取得\n",
        "every(values) #値の一覧を表示\n",
        "#文字列も文字配列としてコレクション扱いができる\n",
        "every('dog') #d o gとして表示"
      ],
      "metadata": {
        "colab": {
          "base_uri": "https://localhost:8080/"
        },
        "id": "VsCLArmhxxtf",
        "outputId": "5421964e-2003-463e-b36f-2780d8941fd5"
      },
      "execution_count": 23,
      "outputs": [
        {
          "output_type": "stream",
          "name": "stdout",
          "text": [
            "1\n",
            "2\n",
            "3\n",
            "4\n",
            "5\n",
            "6\n",
            "a\n",
            "b\n",
            "c\n",
            "7\n",
            "8\n",
            "9\n",
            "d\n",
            "o\n",
            "g\n"
          ]
        }
      ]
    },
    {
      "cell_type": "code",
      "source": [
        "#カウンター変数で繰り返す\n",
        "# for n in range(数値)\n",
        "def count(num):\n",
        "  for i in range(num):\n",
        "    print(i)\n",
        "  #繰り返しの終わり\n",
        "#関数の終わり\n",
        "count(3) #3=0, 1, 2で繰り返す"
      ],
      "metadata": {
        "colab": {
          "base_uri": "https://localhost:8080/"
        },
        "id": "IwKZSqaj0axe",
        "outputId": "3211c42a-eb5e-4a4c-8872-3572e45b9e38"
      },
      "execution_count": 25,
      "outputs": [
        {
          "output_type": "stream",
          "name": "stdout",
          "text": [
            "0\n",
            "1\n",
            "2\n"
          ]
        }
      ]
    },
    {
      "cell_type": "markdown",
      "source": [
        "## 繰り返しを中断したいときは、break命令"
      ],
      "metadata": {
        "id": "QTejXvyW46mY"
      }
    },
    {
      "cell_type": "code",
      "source": [
        "def stop(array):\n",
        "  for i in array:\n",
        "    if i >= 4:\n",
        "      break #ループを中断\n",
        "    #分岐の終わり\n",
        "    print(i)\n",
        "  #繰り返しの終わり\n",
        "#関数の終わり\n",
        "list = [1, 2, 3, 4, 5, 1, 2, 3, 4, 5]\n",
        "stop(list)"
      ],
      "metadata": {
        "colab": {
          "base_uri": "https://localhost:8080/"
        },
        "id": "0JMIKt3J4-Xo",
        "outputId": "35b0a8be-ec1e-4b82-9275-fee78968a7a9"
      },
      "execution_count": 27,
      "outputs": [
        {
          "output_type": "stream",
          "name": "stdout",
          "text": [
            "1\n",
            "2\n",
            "3\n"
          ]
        }
      ]
    },
    {
      "cell_type": "markdown",
      "source": [
        "## 繰り返しをスキップしたいときは、continue命令"
      ],
      "metadata": {
        "id": "RVbQKf2V6vYY"
      }
    },
    {
      "cell_type": "code",
      "source": [
        "def skip(array):\n",
        "  for i in array:\n",
        "    if i >= 4:\n",
        "      continue #以降のループ内処理をスキップする\n",
        "    #分岐の終わり\n",
        "    print(i)\n",
        "  #繰り返しの終わり\n",
        "#関数の終わり\n",
        "list = [1, 2, 3, 4, 5, 1, 2, 3, 4, 5]\n",
        "skip(list)"
      ],
      "metadata": {
        "colab": {
          "base_uri": "https://localhost:8080/"
        },
        "id": "VkFFr0pA5f3u",
        "outputId": "58b439b0-6b8e-42b5-dc72-ad5ee5c03052"
      },
      "execution_count": 28,
      "outputs": [
        {
          "output_type": "stream",
          "name": "stdout",
          "text": [
            "1\n",
            "2\n",
            "3\n",
            "1\n",
            "2\n",
            "3\n"
          ]
        }
      ]
    },
    {
      "cell_type": "code",
      "source": [],
      "metadata": {
        "id": "3imi32uz7TIj"
      },
      "execution_count": null,
      "outputs": []
    }
  ]
}