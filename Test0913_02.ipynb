{
  "nbformat": 4,
  "nbformat_minor": 0,
  "metadata": {
    "colab": {
      "provenance": [],
      "collapsed_sections": [],
      "authorship_tag": "ABX9TyMS2zrwhBdMThugMtJYgzmh",
      "include_colab_link": true
    },
    "kernelspec": {
      "name": "python3",
      "display_name": "Python 3"
    },
    "language_info": {
      "name": "python"
    }
  },
  "cells": [
    {
      "cell_type": "markdown",
      "metadata": {
        "id": "view-in-github",
        "colab_type": "text"
      },
      "source": [
        "<a href=\"https://colab.research.google.com/github/FreeVoid5/DeepLearning2022Late/blob/main/Test0913_02.ipynb\" target=\"_parent\"><img src=\"https://colab.research.google.com/assets/colab-badge.svg\" alt=\"Open In Colab\"/></a>"
      ]
    },
    {
      "cell_type": "markdown",
      "source": [
        "# 辞書型（dictionary）\n",
        "キーと値のペアで管理する"
      ],
      "metadata": {
        "id": "idqndVB_y_07"
      }
    },
    {
      "cell_type": "markdown",
      "source": [
        "## 辞書型の定義文"
      ],
      "metadata": {
        "id": "pJ7UDJXRzbGv"
      }
    },
    {
      "cell_type": "code",
      "execution_count": 1,
      "metadata": {
        "colab": {
          "base_uri": "https://localhost:8080/"
        },
        "id": "Cej4LixoytRi",
        "outputId": "995d98f2-8acd-484b-ee6a-d41be5db9691"
      },
      "outputs": [
        {
          "output_type": "stream",
          "name": "stdout",
          "text": [
            "{'アップル': 1, 'ペン': 2, 'パイナップル': 3}\n",
            "2\n"
          ]
        }
      ],
      "source": [
        "#辞書型のデータを作って変数dictに代入\n",
        "#{キーワード:値, 'キーワード':値}でデータを管理\n",
        "dict = {'アップル':1, 'ペン':2, 'パイナップル':3}\n",
        "print(dict)\n",
        "#値を利用するときは、キーワードで指定\n",
        "print(dict['ペン'])\n"
      ]
    },
    {
      "cell_type": "code",
      "source": [
        "print(dict)\n",
        "#dictに入っているキーの一覧\n",
        "print(dict.keys())\n",
        "#dictに入っている値の一覧\n",
        "print(dict.values())"
      ],
      "metadata": {
        "colab": {
          "base_uri": "https://localhost:8080/"
        },
        "id": "CUuAVnl70y8S",
        "outputId": "4b580837-8a7b-47f8-e018-b001002eec74"
      },
      "execution_count": 2,
      "outputs": [
        {
          "output_type": "stream",
          "name": "stdout",
          "text": [
            "{'アップル': 1, 'ペン': 2, 'パイナップル': 3}\n",
            "dict_keys(['アップル', 'ペン', 'パイナップル'])\n",
            "dict_values([1, 2, 3])\n"
          ]
        }
      ]
    },
    {
      "cell_type": "markdown",
      "source": [
        "## 辞書型の追加・削除・更新"
      ],
      "metadata": {
        "id": "9QSY8xNX1B9a"
      }
    },
    {
      "cell_type": "code",
      "source": [
        "print(dict)\n",
        "#dictにバナナというキーワードで値5を追加\n",
        "#print(dict.keys())\n",
        "dict['バナナ'] = 5\n",
        "print(dict)\n",
        "#キーワードがすでにあったら、そのキーワードの値を更新\n",
        "dict['バナナ'] = 100\n",
        "print(dict)\n",
        "#キーワードで指定したペアを削除\n",
        "dict.pop('バナナ')\n",
        "print(dict)"
      ],
      "metadata": {
        "colab": {
          "base_uri": "https://localhost:8080/"
        },
        "id": "j04DD3zF1JC7",
        "outputId": "5e064dcd-52f2-4126-b387-46814a88178d"
      },
      "execution_count": 3,
      "outputs": [
        {
          "output_type": "stream",
          "name": "stdout",
          "text": [
            "{'アップル': 1, 'ペン': 2, 'パイナップル': 3}\n",
            "{'アップル': 1, 'ペン': 2, 'パイナップル': 3, 'バナナ': 5}\n",
            "{'アップル': 1, 'ペン': 2, 'パイナップル': 3, 'バナナ': 100}\n",
            "{'アップル': 1, 'ペン': 2, 'パイナップル': 3}\n"
          ]
        }
      ]
    },
    {
      "cell_type": "markdown",
      "source": [
        "# 文字列の整形\n",
        "## 文字列の連結と繰り返し"
      ],
      "metadata": {
        "id": "R9HkysmD4p9n"
      }
    },
    {
      "cell_type": "code",
      "source": [
        "#文字列の連結と繰り返し\n",
        "apple = 'アップル'\n",
        "pen = 'ペン'\n",
        "print(apple + pen) #プラス記号で連結\n",
        "#文字列の連結方法②　文字配列を連結する\n",
        "piko = ['ペン', 'パイナップル', 'アップル', 'ペン']\n",
        "#printメソッドで連結して表示　例：,で連結\n",
        "print(','.join(piko))\n",
        "#回数を指定してメッセージを表示\n",
        "pon = 'ポン'\n",
        "print(pon * 3)"
      ],
      "metadata": {
        "colab": {
          "base_uri": "https://localhost:8080/"
        },
        "id": "gP-KBZKu3YhU",
        "outputId": "e95c1f15-4fa5-4750-fcb7-e92e178c63b2"
      },
      "execution_count": 4,
      "outputs": [
        {
          "output_type": "stream",
          "name": "stdout",
          "text": [
            "アップルペン\n",
            "ペン,パイナップル,アップル,ペン\n",
            "ポンポンポン\n"
          ]
        }
      ]
    },
    {
      "cell_type": "markdown",
      "source": [
        "## 【重要】文字列の整形（フォーマット）"
      ],
      "metadata": {
        "id": "Ao5Zxwr47CzY"
      }
    },
    {
      "cell_type": "code",
      "source": [
        "#定式で指定した形のメッセージにする\n",
        "print('{}{}:{}円')\n",
        "#スロットを定義した順番に、その数だけデータを引き渡して文章を組み立てる\n",
        "print('{}{}:{}円'.format('アップル', 'ペン', 100))\n",
        "#スロットを値のインデックスで指定することもできる\n",
        "print('{1}{2}:{0}円'.format(100, 'アップル', 'ペン'))"
      ],
      "metadata": {
        "colab": {
          "base_uri": "https://localhost:8080/"
        },
        "id": "Ws0KkOsF5JLa",
        "outputId": "3458834c-6dad-4bb4-f751-0983af26a2ae"
      },
      "execution_count": 5,
      "outputs": [
        {
          "output_type": "stream",
          "name": "stdout",
          "text": [
            "{}{}:{}円\n",
            "アップルペン:100円\n",
            "アップルペン:100円\n"
          ]
        }
      ]
    },
    {
      "cell_type": "markdown",
      "source": [
        "# コレクション演算\n",
        "リスト、タプル、つまり順番がある集合のことをシーケンスという。\n",
        "順番がない集合を集合型（セット）という。\n",
        "上記2種類をまとめてコレクションという。\n",
        "コレクションは共通の演算が使える。\n",
        "len（長さ、量を取得）、max（最大値を取得）、min（最小値を取得）など"
      ],
      "metadata": {
        "id": "oDpr2CzWW_3X"
      }
    },
    {
      "cell_type": "code",
      "source": [
        "list = [1, 1, 2, 3, 4, 5] #6つの要素\n",
        "tuple = (10, 9, 7, 7, 8, 8, 9) #7つの要素\n",
        "set = {1, -2, 3, -4, 5, -6, 7, -8} #8つの要素\n",
        "#リストの長さ、最大値、最小値\n",
        "print(len(list), max(list), min(list))\n",
        "#タプルの長さ、最大値、最小値\n",
        "print(len(tuple), max(tuple), min(tuple))\n",
        "#setの長さ（量）、最大値、最小値\n",
        "print(len(set), max(set), min(set))"
      ],
      "metadata": {
        "id": "Y6LLahb_8Ihg",
        "colab": {
          "base_uri": "https://localhost:8080/"
        },
        "outputId": "2ef28be0-f24f-4bdd-f073-136c071721ef"
      },
      "execution_count": 6,
      "outputs": [
        {
          "output_type": "stream",
          "name": "stdout",
          "text": [
            "6 5 1\n",
            "7 10 7\n",
            "8 7 -8\n"
          ]
        }
      ]
    },
    {
      "cell_type": "code",
      "source": [],
      "metadata": {
        "id": "QVFz0pm5Zqmw"
      },
      "execution_count": 6,
      "outputs": []
    }
  ]
}