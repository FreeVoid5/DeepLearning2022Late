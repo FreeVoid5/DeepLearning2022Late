{
  "nbformat": 4,
  "nbformat_minor": 0,
  "metadata": {
    "colab": {
      "provenance": [],
      "collapsed_sections": [],
      "authorship_tag": "ABX9TyNMAma7Hv6s9bP/DWC4tMwO",
      "include_colab_link": true
    },
    "kernelspec": {
      "name": "python3",
      "display_name": "Python 3"
    },
    "language_info": {
      "name": "python"
    }
  },
  "cells": [
    {
      "cell_type": "markdown",
      "metadata": {
        "id": "view-in-github",
        "colab_type": "text"
      },
      "source": [
        "<a href=\"https://colab.research.google.com/github/FreeVoid5/DeepLearning2022Late/blob/main/Test0912.ipynb\" target=\"_parent\"><img src=\"https://colab.research.google.com/assets/colab-badge.svg\" alt=\"Open In Colab\"/></a>"
      ]
    },
    {
      "cell_type": "code",
      "source": [
        "print(\"Hello world\")"
      ],
      "metadata": {
        "colab": {
          "base_uri": "https://localhost:8080/"
        },
        "id": "RLJo8rV3pDpl",
        "outputId": "195dabc8-beaa-4f67-85de-58e7d1530b35"
      },
      "execution_count": null,
      "outputs": [
        {
          "output_type": "stream",
          "name": "stdout",
          "text": [
            "Hello world\n"
          ]
        }
      ]
    },
    {
      "cell_type": "code",
      "source": [
        "x = 1.23456\n",
        "print(x)\n",
        "print(type(x))"
      ],
      "metadata": {
        "colab": {
          "base_uri": "https://localhost:8080/"
        },
        "id": "Nbq9ILM5pOOo",
        "outputId": "defbe02a-dd98-40eb-8de3-c79a136df9f8"
      },
      "execution_count": null,
      "outputs": [
        {
          "output_type": "stream",
          "name": "stdout",
          "text": [
            "1.23456\n",
            "<class 'float'>\n"
          ]
        }
      ]
    },
    {
      "cell_type": "code",
      "source": [
        "#整数型、文字列型も表示する\n",
        "integer = 100\n",
        "print(type(integer))\n",
        "hello = \"Hello Python\"\n",
        "print(type(hello))"
      ],
      "metadata": {
        "colab": {
          "base_uri": "https://localhost:8080/"
        },
        "id": "a5d2aRPXpryB",
        "outputId": "4a8715ad-78b3-41cb-b926-f66fcb95d1d8"
      },
      "execution_count": null,
      "outputs": [
        {
          "output_type": "stream",
          "name": "stdout",
          "text": [
            "<class 'int'>\n",
            "<class 'str'>\n"
          ]
        }
      ]
    },
    {
      "cell_type": "code",
      "source": [
        "#型を変換する\n",
        "print(type(integer))\n",
        "strInteger = str(integer)\n",
        "print(type(strInteger))"
      ],
      "metadata": {
        "id": "bULLjp6puOrn",
        "colab": {
          "base_uri": "https://localhost:8080/"
        },
        "outputId": "df3908e3-fe62-4650-85a1-e4b03b5b9a2d"
      },
      "execution_count": null,
      "outputs": [
        {
          "output_type": "stream",
          "name": "stdout",
          "text": [
            "<class 'int'>\n",
            "<class 'str'>\n"
          ]
        }
      ]
    },
    {
      "cell_type": "code",
      "source": [
        "###定数\n",
        "#Python3ではmNone,True/Falseは置き換え不可のキーワード\n",
        "print(type(None))\n",
        "#true/falseはboolean\n",
        "print(type(True))"
      ],
      "metadata": {
        "colab": {
          "base_uri": "https://localhost:8080/"
        },
        "id": "oZ-S2LW0Ti7U",
        "outputId": "75e7678f-e9b3-41e8-d604-df47fc4f9ed7"
      },
      "execution_count": null,
      "outputs": [
        {
          "output_type": "stream",
          "name": "stdout",
          "text": [
            "<class 'NoneType'>\n",
            "<class 'bool'>\n"
          ]
        }
      ]
    },
    {
      "cell_type": "markdown",
      "source": [
        "## 演算の練習"
      ],
      "metadata": {
        "id": "Y-DB9-JRstq6"
      }
    },
    {
      "cell_type": "code",
      "source": [
        "#足し算と掛け算はJavaと一緒\n",
        "#割り算に注意\n",
        "print(6/4) #Javaと違って整数同士の割り算も実数になる\n",
        "print(6//4) #Javaのように整数同士の割り算の整数部を返す\n",
        "#あまり算もJavaと一緒"
      ],
      "metadata": {
        "colab": {
          "base_uri": "https://localhost:8080/"
        },
        "id": "3hypWUbZqJ1G",
        "outputId": "ede8d9af-253a-41e1-f3e3-8010fe0c81f4"
      },
      "execution_count": null,
      "outputs": [
        {
          "output_type": "stream",
          "name": "stdout",
          "text": [
            "1.5\n",
            "1\n"
          ]
        }
      ]
    },
    {
      "cell_type": "code",
      "source": [
        "#絶対値を返す関数\n",
        "print(abs(-3.14))\n",
        "#n乗計算\n",
        "print(pow(3,4)) #3の4乗\n",
        "print(3**4) #3の4乗"
      ],
      "metadata": {
        "colab": {
          "base_uri": "https://localhost:8080/"
        },
        "id": "WevrEqTXtqAa",
        "outputId": "3cec11b8-3ab9-473b-8513-1bc3e96dea7f"
      },
      "execution_count": null,
      "outputs": [
        {
          "output_type": "stream",
          "name": "stdout",
          "text": [
            "3.14\n",
            "81\n",
            "81\n"
          ]
        }
      ]
    },
    {
      "cell_type": "code",
      "source": [],
      "metadata": {
        "id": "oPU7J135s5ND"
      },
      "execution_count": null,
      "outputs": []
    }
  ]
}