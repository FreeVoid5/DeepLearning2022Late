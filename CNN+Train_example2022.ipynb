{
  "nbformat": 4,
  "nbformat_minor": 0,
  "metadata": {
    "colab": {
      "provenance": [],
      "collapsed_sections": [],
      "authorship_tag": "ABX9TyMfDoH75fdtRlhdO8cdYGF2",
      "include_colab_link": true
    },
    "kernelspec": {
      "name": "python3",
      "display_name": "Python 3"
    },
    "language_info": {
      "name": "python"
    }
  },
  "cells": [
    {
      "cell_type": "markdown",
      "metadata": {
        "id": "view-in-github",
        "colab_type": "text"
      },
      "source": [
        "<a href=\"https://colab.research.google.com/github/FreeVoid5/DeepLearning2022Late/blob/main/CNN%2BTrain_example2022.ipynb\" target=\"_parent\"><img src=\"https://colab.research.google.com/assets/colab-badge.svg\" alt=\"Open In Colab\"/></a>"
      ]
    },
    {
      "cell_type": "markdown",
      "source": [
        "# CNN（畳み込みを含むニューラルネットワークでモデルに学習させる（＝訓練）"
      ],
      "metadata": {
        "id": "UPizBXaqsZte"
      }
    },
    {
      "cell_type": "markdown",
      "source": [
        "## 学習モデルのライブラリをimport"
      ],
      "metadata": {
        "id": "31Rz375ys6TX"
      }
    },
    {
      "cell_type": "code",
      "execution_count": 1,
      "metadata": {
        "id": "-pvK_CyisThC"
      },
      "outputs": [],
      "source": [
        "from keras.models import Sequential, Model\n",
        "from keras.layers import Dense, Flatten, Conv2D"
      ]
    },
    {
      "cell_type": "markdown",
      "source": [
        "## keras自身もimport"
      ],
      "metadata": {
        "id": "kSUljlMQ556m"
      }
    },
    {
      "cell_type": "code",
      "source": [
        "import keras"
      ],
      "metadata": {
        "id": "kjQOVti_596T"
      },
      "execution_count": 2,
      "outputs": []
    },
    {
      "cell_type": "markdown",
      "source": [
        "## SVG画像表示用のライブラリをimport"
      ],
      "metadata": {
        "id": "coDb71EasYbL"
      }
    },
    {
      "cell_type": "code",
      "source": [
        "from IPython.display import SVG\n",
        "from keras.utils.vis_utils import model_to_dot"
      ],
      "metadata": {
        "id": "lMRTmfPutQYZ"
      },
      "execution_count": 3,
      "outputs": []
    },
    {
      "cell_type": "markdown",
      "source": [
        "## その他のライブラリをimport"
      ],
      "metadata": {
        "id": "Te0ek8P33KoG"
      }
    },
    {
      "cell_type": "code",
      "source": [
        "# 乱数を作るためにNumpyをimport\n",
        "import numpy as np # importして、npという別名を設定\n",
        "# 早期終了（Early Stopping）のためのライブラリをimport\n",
        "import keras.callbacks as callbacks # callbacksという別名を設定"
      ],
      "metadata": {
        "id": "KV3YV5jP3P-o"
      },
      "execution_count": 4,
      "outputs": []
    },
    {
      "cell_type": "markdown",
      "source": [
        "## Numpyで乱数を作り、ダミーデータとして学習用、検証用にする"
      ],
      "metadata": {
        "id": "7jAyC2tE41Mu"
      }
    },
    {
      "cell_type": "code",
      "source": [
        "# 学習用データをx_trainとして作る\n",
        "x_train = np.random.random((100, 6, 6, 1))\n",
        "# 学習用データの正解をy_trainとして作る\n",
        "y_train = keras.utils.to_categorical(np.random.randint(10, size=(100, 1)), num_classes = 10)"
      ],
      "metadata": {
        "id": "dLMhfmz41jq_"
      },
      "execution_count": 5,
      "outputs": []
    },
    {
      "cell_type": "code",
      "source": [
        "# テスト検証用データをx_testとして作る\n",
        "# (6, 6, 1)の形を今度は20セット分\n",
        "x_test = np.random.random((20, 6, 6, 1))\n",
        "# テスト検証用データの正解をy_testとして作る\n",
        "y_test = keras.utils.to_categorical(np.random.randint(10, size=(20, 1)), num_classes = 10)"
      ],
      "metadata": {
        "id": "Rw48Msgh7ccj"
      },
      "execution_count": 6,
      "outputs": []
    },
    {
      "cell_type": "markdown",
      "source": [
        "## 学習モデルを生成する"
      ],
      "metadata": {
        "id": "yDGoIoChuIiK"
      }
    },
    {
      "cell_type": "code",
      "source": [
        "model = Sequential()"
      ],
      "metadata": {
        "id": "w6EBMiYot6N-"
      },
      "execution_count": 7,
      "outputs": []
    },
    {
      "cell_type": "markdown",
      "source": [
        "## 学習モデルにニューロン層を追加してニューラルネットワークにする"
      ],
      "metadata": {
        "id": "Cmf_-WVg-FWn"
      }
    },
    {
      "cell_type": "markdown",
      "source": [
        "### 畳み込み層を追加"
      ],
      "metadata": {
        "id": "Ha9lgMU097Az"
      }
    },
    {
      "cell_type": "code",
      "source": [
        "# 畳み込み層追加\n",
        "model.add(Conv2D(\n",
        "    filters=3, # フィルター３パターン\n",
        "    kernel_size=(3, 3), # 受容野のサイズ縦3, 横3\n",
        "    kernel_initializer='lecun_uniform',\n",
        "    input_shape=(6, 6, 1), # 入力データの形縦6, 横6\n",
        "    name='Conv2D_1'\n",
        "    ))"
      ],
      "metadata": {
        "id": "qe8FXcs6ulBb"
      },
      "execution_count": 8,
      "outputs": []
    },
    {
      "cell_type": "markdown",
      "source": [
        "### その他の層も追加する"
      ],
      "metadata": {
        "id": "w7_AMy9pAzAu"
      }
    },
    {
      "cell_type": "code",
      "source": [
        "# 全結合層\n",
        "model.add(Flatten(\n",
        "    name='Flatten_1'\n",
        "    ))\n",
        "# softmaxで分類するニューロン層\n",
        "model.add(Dense(units = 10, activation = 'softmax', name = 'Dense_1'))"
      ],
      "metadata": {
        "id": "TNtVUGogA9Xn"
      },
      "execution_count": 9,
      "outputs": []
    },
    {
      "cell_type": "markdown",
      "source": [
        "## 学習モデルの形をSVG画像で確認"
      ],
      "metadata": {
        "id": "G9PFBck2v6Xl"
      }
    },
    {
      "cell_type": "code",
      "source": [
        "SVG(model_to_dot(model, show_shapes=True, dpi=None).create(prog='dot', format='svg'))"
      ],
      "metadata": {
        "colab": {
          "base_uri": "https://localhost:8080/",
          "height": 427
        },
        "id": "yr-NtKSdv2cH",
        "outputId": "b84a188b-8194-44ae-fb5d-cb99c4c9f677"
      },
      "execution_count": 10,
      "outputs": [
        {
          "output_type": "execute_result",
          "data": {
            "text/plain": [
              "<IPython.core.display.SVG object>"
            ],
            "image/svg+xml": "<svg height=\"304pt\" viewBox=\"0.00 0.00 368.00 304.00\" width=\"368pt\" xmlns=\"http://www.w3.org/2000/svg\" xmlns:xlink=\"http://www.w3.org/1999/xlink\">\n<g class=\"graph\" id=\"graph0\" transform=\"scale(1 1) rotate(0) translate(4 300)\">\n<title>G</title>\n<polygon fill=\"#ffffff\" points=\"-4,4 -4,-300 364,-300 364,4 -4,4\" stroke=\"transparent\"/>\n<!-- dpi -->\n<g class=\"node\" id=\"node1\">\n<title>dpi</title>\n<ellipse cx=\"27\" cy=\"-272.5\" fill=\"none\" rx=\"27\" ry=\"18\" stroke=\"#000000\"/>\n<text fill=\"#000000\" font-family=\"Times,serif\" font-size=\"14.00\" text-anchor=\"middle\" x=\"27\" y=\"-268.8\">dpi</text>\n</g>\n<!-- 140245057368784 -->\n<g class=\"node\" id=\"node2\">\n<title>140245057368784</title>\n<polygon fill=\"none\" points=\"72,-249.5 72,-295.5 360,-295.5 360,-249.5 72,-249.5\" stroke=\"#000000\"/>\n<text fill=\"#000000\" font-family=\"Times,serif\" font-size=\"14.00\" text-anchor=\"middle\" x=\"131.5\" y=\"-280.3\">Conv2D_1_input</text>\n<polyline fill=\"none\" points=\"72,-272.5 191,-272.5 \" stroke=\"#000000\"/>\n<text fill=\"#000000\" font-family=\"Times,serif\" font-size=\"14.00\" text-anchor=\"middle\" x=\"131.5\" y=\"-257.3\">InputLayer</text>\n<polyline fill=\"none\" points=\"191,-249.5 191,-295.5 \" stroke=\"#000000\"/>\n<text fill=\"#000000\" font-family=\"Times,serif\" font-size=\"14.00\" text-anchor=\"middle\" x=\"220\" y=\"-280.3\">input:</text>\n<polyline fill=\"none\" points=\"191,-272.5 249,-272.5 \" stroke=\"#000000\"/>\n<text fill=\"#000000\" font-family=\"Times,serif\" font-size=\"14.00\" text-anchor=\"middle\" x=\"220\" y=\"-257.3\">output:</text>\n<polyline fill=\"none\" points=\"249,-249.5 249,-295.5 \" stroke=\"#000000\"/>\n<text fill=\"#000000\" font-family=\"Times,serif\" font-size=\"14.00\" text-anchor=\"middle\" x=\"304.5\" y=\"-280.3\">[(None, 6, 6, 1)]</text>\n<polyline fill=\"none\" points=\"249,-272.5 360,-272.5 \" stroke=\"#000000\"/>\n<text fill=\"#000000\" font-family=\"Times,serif\" font-size=\"14.00\" text-anchor=\"middle\" x=\"304.5\" y=\"-257.3\">[(None, 6, 6, 1)]</text>\n</g>\n<!-- 140245057371536 -->\n<g class=\"node\" id=\"node3\">\n<title>140245057371536</title>\n<polygon fill=\"none\" points=\"95,-166.5 95,-212.5 337,-212.5 337,-166.5 95,-166.5\" stroke=\"#000000\"/>\n<text fill=\"#000000\" font-family=\"Times,serif\" font-size=\"14.00\" text-anchor=\"middle\" x=\"136\" y=\"-197.3\">Conv2D_1</text>\n<polyline fill=\"none\" points=\"95,-189.5 177,-189.5 \" stroke=\"#000000\"/>\n<text fill=\"#000000\" font-family=\"Times,serif\" font-size=\"14.00\" text-anchor=\"middle\" x=\"136\" y=\"-174.3\">Conv2D</text>\n<polyline fill=\"none\" points=\"177,-166.5 177,-212.5 \" stroke=\"#000000\"/>\n<text fill=\"#000000\" font-family=\"Times,serif\" font-size=\"14.00\" text-anchor=\"middle\" x=\"206\" y=\"-197.3\">input:</text>\n<polyline fill=\"none\" points=\"177,-189.5 235,-189.5 \" stroke=\"#000000\"/>\n<text fill=\"#000000\" font-family=\"Times,serif\" font-size=\"14.00\" text-anchor=\"middle\" x=\"206\" y=\"-174.3\">output:</text>\n<polyline fill=\"none\" points=\"235,-166.5 235,-212.5 \" stroke=\"#000000\"/>\n<text fill=\"#000000\" font-family=\"Times,serif\" font-size=\"14.00\" text-anchor=\"middle\" x=\"286\" y=\"-197.3\">(None, 6, 6, 1)</text>\n<polyline fill=\"none\" points=\"235,-189.5 337,-189.5 \" stroke=\"#000000\"/>\n<text fill=\"#000000\" font-family=\"Times,serif\" font-size=\"14.00\" text-anchor=\"middle\" x=\"286\" y=\"-174.3\">(None, 4, 4, 3)</text>\n</g>\n<!-- 140245057368784&#45;&gt;140245057371536 -->\n<g class=\"edge\" id=\"edge1\">\n<title>140245057368784-&gt;140245057371536</title>\n<path d=\"M216,-249.3799C216,-241.1745 216,-231.7679 216,-222.8786\" fill=\"none\" stroke=\"#000000\"/>\n<polygon fill=\"#000000\" points=\"219.5001,-222.784 216,-212.784 212.5001,-222.784 219.5001,-222.784\" stroke=\"#000000\"/>\n</g>\n<!-- 140245057370960 -->\n<g class=\"node\" id=\"node4\">\n<title>140245057370960</title>\n<polygon fill=\"none\" points=\"100.5,-83.5 100.5,-129.5 331.5,-129.5 331.5,-83.5 100.5,-83.5\" stroke=\"#000000\"/>\n<text fill=\"#000000\" font-family=\"Times,serif\" font-size=\"14.00\" text-anchor=\"middle\" x=\"136\" y=\"-114.3\">Flatten_1</text>\n<polyline fill=\"none\" points=\"100.5,-106.5 171.5,-106.5 \" stroke=\"#000000\"/>\n<text fill=\"#000000\" font-family=\"Times,serif\" font-size=\"14.00\" text-anchor=\"middle\" x=\"136\" y=\"-91.3\">Flatten</text>\n<polyline fill=\"none\" points=\"171.5,-83.5 171.5,-129.5 \" stroke=\"#000000\"/>\n<text fill=\"#000000\" font-family=\"Times,serif\" font-size=\"14.00\" text-anchor=\"middle\" x=\"200.5\" y=\"-114.3\">input:</text>\n<polyline fill=\"none\" points=\"171.5,-106.5 229.5,-106.5 \" stroke=\"#000000\"/>\n<text fill=\"#000000\" font-family=\"Times,serif\" font-size=\"14.00\" text-anchor=\"middle\" x=\"200.5\" y=\"-91.3\">output:</text>\n<polyline fill=\"none\" points=\"229.5,-83.5 229.5,-129.5 \" stroke=\"#000000\"/>\n<text fill=\"#000000\" font-family=\"Times,serif\" font-size=\"14.00\" text-anchor=\"middle\" x=\"280.5\" y=\"-114.3\">(None, 4, 4, 3)</text>\n<polyline fill=\"none\" points=\"229.5,-106.5 331.5,-106.5 \" stroke=\"#000000\"/>\n<text fill=\"#000000\" font-family=\"Times,serif\" font-size=\"14.00\" text-anchor=\"middle\" x=\"280.5\" y=\"-91.3\">(None, 48)</text>\n</g>\n<!-- 140245057371536&#45;&gt;140245057370960 -->\n<g class=\"edge\" id=\"edge2\">\n<title>140245057371536-&gt;140245057370960</title>\n<path d=\"M216,-166.3799C216,-158.1745 216,-148.7679 216,-139.8786\" fill=\"none\" stroke=\"#000000\"/>\n<polygon fill=\"#000000\" points=\"219.5001,-139.784 216,-129.784 212.5001,-139.784 219.5001,-139.784\" stroke=\"#000000\"/>\n</g>\n<!-- 140245057370896 -->\n<g class=\"node\" id=\"node5\">\n<title>140245057370896</title>\n<polygon fill=\"none\" points=\"113.5,-.5 113.5,-46.5 318.5,-46.5 318.5,-.5 113.5,-.5\" stroke=\"#000000\"/>\n<text fill=\"#000000\" font-family=\"Times,serif\" font-size=\"14.00\" text-anchor=\"middle\" x=\"147\" y=\"-31.3\">Dense_1</text>\n<polyline fill=\"none\" points=\"113.5,-23.5 180.5,-23.5 \" stroke=\"#000000\"/>\n<text fill=\"#000000\" font-family=\"Times,serif\" font-size=\"14.00\" text-anchor=\"middle\" x=\"147\" y=\"-8.3\">Dense</text>\n<polyline fill=\"none\" points=\"180.5,-.5 180.5,-46.5 \" stroke=\"#000000\"/>\n<text fill=\"#000000\" font-family=\"Times,serif\" font-size=\"14.00\" text-anchor=\"middle\" x=\"209.5\" y=\"-31.3\">input:</text>\n<polyline fill=\"none\" points=\"180.5,-23.5 238.5,-23.5 \" stroke=\"#000000\"/>\n<text fill=\"#000000\" font-family=\"Times,serif\" font-size=\"14.00\" text-anchor=\"middle\" x=\"209.5\" y=\"-8.3\">output:</text>\n<polyline fill=\"none\" points=\"238.5,-.5 238.5,-46.5 \" stroke=\"#000000\"/>\n<text fill=\"#000000\" font-family=\"Times,serif\" font-size=\"14.00\" text-anchor=\"middle\" x=\"278.5\" y=\"-31.3\">(None, 48)</text>\n<polyline fill=\"none\" points=\"238.5,-23.5 318.5,-23.5 \" stroke=\"#000000\"/>\n<text fill=\"#000000\" font-family=\"Times,serif\" font-size=\"14.00\" text-anchor=\"middle\" x=\"278.5\" y=\"-8.3\">(None, 10)</text>\n</g>\n<!-- 140245057370960&#45;&gt;140245057370896 -->\n<g class=\"edge\" id=\"edge3\">\n<title>140245057370960-&gt;140245057370896</title>\n<path d=\"M216,-83.3799C216,-75.1745 216,-65.7679 216,-56.8786\" fill=\"none\" stroke=\"#000000\"/>\n<polygon fill=\"#000000\" points=\"219.5001,-56.784 216,-46.784 212.5001,-56.784 219.5001,-56.784\" stroke=\"#000000\"/>\n</g>\n</g>\n</svg>"
          },
          "metadata": {},
          "execution_count": 10
        }
      ]
    },
    {
      "cell_type": "markdown",
      "source": [
        "## 組み立てたモデルを学習データで訓練する\n",
        "早期終了も設定する"
      ],
      "metadata": {
        "id": "4OBsfMZgILc5"
      }
    },
    {
      "cell_type": "code",
      "source": [
        "# 早期終了用の設定のオブジェクトを用意する\n",
        "earlyStopping = callbacks.EarlyStopping(monitor='val_loss', #損失を監視\n",
        "                                        patience=5) #epoch5つ分様子を見る"
      ],
      "metadata": {
        "id": "lYq1tSvDNc6t"
      },
      "execution_count": 11,
      "outputs": []
    },
    {
      "cell_type": "markdown",
      "source": [
        "### 学習方法を指定して学習モデルをコンパイルする"
      ],
      "metadata": {
        "id": "PunVGP5aLmyA"
      }
    },
    {
      "cell_type": "code",
      "source": [
        "model.compile(loss='mean_squared_error', #平均（mean）二乗（squared）誤差（error）\n",
        "              optimizer='sgd' # パラメータの重みをSGDで最適化する\n",
        "              # SGD = 確率的勾配降下法\n",
        "              )\n",
        "model.fit(x_train, y_train, # 学習データと答えデータ\n",
        "          batch_size = 32, # 32個ずつまとめて学習（=バッチ学習）してから重みを調整する。\n",
        "          epochs = 10, # バッチが終わったら重みを調整して学習しなおす。その回数。\n",
        "          callbacks = [earlyStopping], # エポックの中で呼ぶcallback処理のリストに早期終了を追加\n",
        "          validation_split = 0.2, # 学習データのうち2割を、学習中の自己評価検証に使う\n",
        "          )"
      ],
      "metadata": {
        "colab": {
          "base_uri": "https://localhost:8080/"
        },
        "id": "EvoXWE8U3vOh",
        "outputId": "bb38dc6f-230f-4de7-db12-92f76271dcf7"
      },
      "execution_count": 12,
      "outputs": [
        {
          "output_type": "stream",
          "name": "stdout",
          "text": [
            "Epoch 1/10\n",
            "3/3 [==============================] - 1s 206ms/step - loss: 0.0898 - val_loss: 0.0982\n",
            "Epoch 2/10\n",
            "3/3 [==============================] - 0s 21ms/step - loss: 0.0898 - val_loss: 0.0982\n",
            "Epoch 3/10\n",
            "3/3 [==============================] - 0s 51ms/step - loss: 0.0898 - val_loss: 0.0982\n",
            "Epoch 4/10\n",
            "3/3 [==============================] - 0s 24ms/step - loss: 0.0898 - val_loss: 0.0982\n",
            "Epoch 5/10\n",
            "3/3 [==============================] - 0s 28ms/step - loss: 0.0898 - val_loss: 0.0982\n",
            "Epoch 6/10\n",
            "3/3 [==============================] - 0s 24ms/step - loss: 0.0898 - val_loss: 0.0982\n",
            "Epoch 7/10\n",
            "3/3 [==============================] - 0s 37ms/step - loss: 0.0898 - val_loss: 0.0982\n",
            "Epoch 8/10\n",
            "3/3 [==============================] - 0s 29ms/step - loss: 0.0898 - val_loss: 0.0982\n",
            "Epoch 9/10\n",
            "3/3 [==============================] - 0s 42ms/step - loss: 0.0898 - val_loss: 0.0982\n",
            "Epoch 10/10\n",
            "3/3 [==============================] - 0s 20ms/step - loss: 0.0898 - val_loss: 0.0982\n"
          ]
        },
        {
          "output_type": "execute_result",
          "data": {
            "text/plain": [
              "<keras.callbacks.History at 0x7f8d54953dd0>"
            ]
          },
          "metadata": {},
          "execution_count": 12
        }
      ]
    }
  ]
}