{
  "nbformat": 4,
  "nbformat_minor": 0,
  "metadata": {
    "colab": {
      "provenance": [],
      "collapsed_sections": [],
      "authorship_tag": "ABX9TyNr5IAf3qVKff/W29U+Utr9",
      "include_colab_link": true
    },
    "kernelspec": {
      "name": "python3",
      "display_name": "Python 3"
    },
    "language_info": {
      "name": "python"
    }
  },
  "cells": [
    {
      "cell_type": "markdown",
      "metadata": {
        "id": "view-in-github",
        "colab_type": "text"
      },
      "source": [
        "<a href=\"https://colab.research.google.com/github/FreeVoid5/DeepLearning2022Late/blob/main/Test0913_1.ipynb\" target=\"_parent\"><img src=\"https://colab.research.google.com/assets/colab-badge.svg\" alt=\"Open In Colab\"/></a>"
      ]
    },
    {
      "cell_type": "markdown",
      "source": [
        "# リスト型とタプル型\n",
        "## リストとタプル"
      ],
      "metadata": {
        "id": "X9hzEE4HUppJ"
      }
    },
    {
      "cell_type": "code",
      "source": [
        "#リスト\n",
        "list = ['アップル', 'ペン', 'ペン', 'パイナップル']\n",
        "print(list)\n",
        "print(list[1] + list[2])"
      ],
      "metadata": {
        "colab": {
          "base_uri": "https://localhost:8080/"
        },
        "id": "jh9yoCR0UwLI",
        "outputId": "731460bf-8b18-4ac0-f0bd-c72082658310"
      },
      "execution_count": null,
      "outputs": [
        {
          "output_type": "stream",
          "name": "stdout",
          "text": [
            "['アップル', 'ペン', 'ペン', 'パイナップル']\n",
            "ペンペン\n"
          ]
        }
      ]
    },
    {
      "cell_type": "code",
      "source": [
        "#タプル\n",
        "tuple = ('アップル', 'ペン', 'ペン', 'パイナップル')\n",
        "print(tuple)\n",
        "print(tuple[1] + tuple[2])"
      ],
      "metadata": {
        "colab": {
          "base_uri": "https://localhost:8080/"
        },
        "id": "n1_9gGuKVzeV",
        "outputId": "32fc3562-4089-46ab-ddf6-e400f203bb34"
      },
      "execution_count": null,
      "outputs": [
        {
          "output_type": "stream",
          "name": "stdout",
          "text": [
            "('アップル', 'ペン', 'ペン', 'パイナップル')\n",
            "ペンペン\n"
          ]
        }
      ]
    },
    {
      "cell_type": "markdown",
      "source": [
        "### 構成を変更できるのはリスト\n",
        "### 構成を変更できない（固定）はタプル"
      ],
      "metadata": {
        "id": "nTgWsdIBXJBG"
      }
    },
    {
      "cell_type": "code",
      "source": [
        "#リストの構成変更\n",
        "print(list)\n",
        "list.append(100) #文字列データのリストにあえて数値を追加\n",
        "print(list)\n",
        "del list[2] #リストの3番目を削除\n",
        "print(list)\n",
        "list[3] = 'ペン' #数値100を'ペン'に更新\n",
        "print(list)\n",
        "list.insert(2, 'ペン') #2番目の位置に'ペン'を挿入\n",
        "print(list)"
      ],
      "metadata": {
        "colab": {
          "base_uri": "https://localhost:8080/"
        },
        "id": "6jn45sEgWxrT",
        "outputId": "5477c6fc-fecc-4d5b-ad82-1d92c4118822"
      },
      "execution_count": null,
      "outputs": [
        {
          "output_type": "stream",
          "name": "stdout",
          "text": [
            "['アップル', 'ペン', 'ペン', 'パイナップル']\n",
            "['アップル', 'ペン', 'ペン', 'パイナップル', 100]\n",
            "['アップル', 'ペン', 'パイナップル', 100]\n",
            "['アップル', 'ペン', 'パイナップル', 'ペン']\n",
            "['アップル', 'ペン', 'ペン', 'パイナップル', 'ペン']\n"
          ]
        }
      ]
    },
    {
      "cell_type": "markdown",
      "source": [
        "### リストやタプルの長さの取得"
      ],
      "metadata": {
        "id": "fG1ahaYhbKRO"
      }
    },
    {
      "cell_type": "code",
      "source": [
        "print(list)\n",
        "print(len(list)) #len()で長さを取得する"
      ],
      "metadata": {
        "colab": {
          "base_uri": "https://localhost:8080/"
        },
        "id": "byAG6dzcXiS1",
        "outputId": "14d21c38-78bf-42b0-d44a-936025cca38a"
      },
      "execution_count": null,
      "outputs": [
        {
          "output_type": "stream",
          "name": "stdout",
          "text": [
            "['アップル', 'ペン', 'ペン', 'パイナップル', 'ペン']\n",
            "5\n"
          ]
        }
      ]
    },
    {
      "cell_type": "markdown",
      "source": [
        "## スライス\n",
        "### データを抽出する（データの一部分をとりだす）"
      ],
      "metadata": {
        "id": "s6ZqODm1b5kb"
      }
    },
    {
      "cell_type": "code",
      "source": [
        "print(list)\n",
        "print(list[1]) #何番目の要素の指定の仕方と同じ考え方\n",
        "print(list[1:3]) #1番目から3番目までの範囲を指定して抽出 = スライス\n",
        "print(list[1:]) #1番目から最後まで抽出（スライス）"
      ],
      "metadata": {
        "colab": {
          "base_uri": "https://localhost:8080/"
        },
        "id": "cOyjqSzWbquH",
        "outputId": "880ddfc6-1677-4e56-d4fc-a758f92d42e2"
      },
      "execution_count": null,
      "outputs": [
        {
          "output_type": "stream",
          "name": "stdout",
          "text": [
            "['アップル', 'ペン', 'ペン', 'パイナップル', 'ペン']\n",
            "ペン\n",
            "['ペン', 'ペン']\n",
            "['ペン', 'ペン', 'パイナップル', 'ペン']\n"
          ]
        }
      ]
    },
    {
      "cell_type": "markdown",
      "source": [
        "# SET型（集合型）\n",
        "集合型SETは、順番を持たない。重複したデータも持たない"
      ],
      "metadata": {
        "id": "L7eXUZg-esaw"
      }
    },
    {
      "cell_type": "code",
      "source": [
        "# uniqという名前のset型変数を作る\n",
        "uniq = set(['アップル', 'ペン', 'ペン', 'パイナップル'])\n",
        "print(uniq) #リストの時点では'ペン'が重複できていたが、set型になって重複が消えた\n"
      ],
      "metadata": {
        "colab": {
          "base_uri": "https://localhost:8080/"
        },
        "id": "H_fI29JdcytC",
        "outputId": "f849b5e8-90e0-4d4a-aca9-9b86aeaf91b6"
      },
      "execution_count": null,
      "outputs": [
        {
          "output_type": "stream",
          "name": "stdout",
          "text": [
            "{'ペン', 'アップル', 'パイナップル'}\n"
          ]
        }
      ]
    },
    {
      "cell_type": "markdown",
      "source": [
        "## 集合型の追加変更削除"
      ],
      "metadata": {
        "id": "6x3Mjf6Rg3bo"
      }
    },
    {
      "cell_type": "code",
      "source": [
        "print(uniq)\n",
        "uniq.add('バナナ') #追加\n",
        "uniq.remove('ペン') #削除\n",
        "print(uniq)\n"
      ],
      "metadata": {
        "colab": {
          "base_uri": "https://localhost:8080/"
        },
        "id": "QrMRMirng8JJ",
        "outputId": "b1323dfc-8b62-4963-c616-310b13cc9ac0"
      },
      "execution_count": null,
      "outputs": [
        {
          "output_type": "stream",
          "name": "stdout",
          "text": [
            "{'ペン', 'アップル', 'パイナップル'}\n",
            "{'バナナ', 'アップル', 'パイナップル'}\n"
          ]
        }
      ]
    },
    {
      "cell_type": "markdown",
      "source": [
        "#### 集合演算\n",
        "包含、積、和、差分"
      ],
      "metadata": {
        "id": "VV09VsBtiEIi"
      }
    },
    {
      "cell_type": "code",
      "source": [
        "# uniqの値を再定義\n",
        "uniq = set(['アップル', 'ペン', 'ペン', 'パイナップル'])\n",
        "a = set(['アップル', 'ペン'])\n",
        "b = set(['ペン', 'パイナップル'])\n",
        "print(uniq)\n",
        "print(a)\n",
        "print(b)\n",
        "#集合aは集合uniqのsubset（部分集合）である？ = 包含関係\n",
        "print(a.issubset(uniq))\n",
        "#データ'ペン'は集合aの中にある？\n",
        "print('ペン' in a)"
      ],
      "metadata": {
        "colab": {
          "base_uri": "https://localhost:8080/"
        },
        "id": "HthSgYPGhAeR",
        "outputId": "0fd31aa0-b637-4e48-d11a-424be63f595c"
      },
      "execution_count": null,
      "outputs": [
        {
          "output_type": "stream",
          "name": "stdout",
          "text": [
            "{'ペン', 'アップル', 'パイナップル'}\n",
            "{'ペン', 'アップル'}\n",
            "{'ペン', 'パイナップル'}\n",
            "True\n",
            "True\n"
          ]
        }
      ]
    },
    {
      "cell_type": "code",
      "source": [
        "#ある集合と別の集合の共通部分の要素（intersection）\n",
        "#集合aと集合bの共通部分\n",
        "print(a)\n",
        "print(b)\n",
        "print(a.intersection(b)) #集合aのデータで集合bに共通のもの:積\n",
        "#集合aと集合bの結合:和集合（setなので重複は削除される）\n",
        "print(a.union(b)) #集合aと集合bの集まり\n",
        "#集合aと集合bの差集合（aのみに含まれる集合）\n",
        "print(a.difference(b)) #aからbを取り除いた残り（差分:difference）"
      ],
      "metadata": {
        "colab": {
          "base_uri": "https://localhost:8080/"
        },
        "id": "CvFw1bP4qBnj",
        "outputId": "feb6ab13-6b2a-47d4-e0be-6aecbd34bc50"
      },
      "execution_count": null,
      "outputs": [
        {
          "output_type": "stream",
          "name": "stdout",
          "text": [
            "{'ペン', 'アップル'}\n",
            "{'ペン', 'パイナップル'}\n",
            "{'ペン'}\n",
            "{'ペン', 'アップル', 'パイナップル'}\n",
            "{'アップル'}\n"
          ]
        }
      ]
    },
    {
      "cell_type": "code",
      "source": [],
      "metadata": {
        "id": "SVFy0P0bjnsm"
      },
      "execution_count": null,
      "outputs": []
    }
  ]
}